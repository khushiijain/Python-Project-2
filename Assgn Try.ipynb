{
 "cells": [
  {
   "cell_type": "code",
   "execution_count": 2,
   "metadata": {},
   "outputs": [],
   "source": [
    "## necessary package\n",
    "import pandas as pd\n"
   ]
  },
  {
   "cell_type": "code",
   "execution_count": 3,
   "metadata": {},
   "outputs": [
    {
     "name": "stdout",
     "output_type": "stream",
     "text": [
      "Defaulting to user installation because normal site-packages is not writeable\n",
      "Requirement already satisfied: matplotlib in /Users/harshitajain/Library/Python/3.9/lib/python/site-packages (3.9.2)\n",
      "Requirement already satisfied: seaborn in /Users/harshitajain/Library/Python/3.9/lib/python/site-packages (0.13.2)\n",
      "Requirement already satisfied: kiwisolver>=1.3.1 in /Users/harshitajain/Library/Python/3.9/lib/python/site-packages (from matplotlib) (1.4.7)\n",
      "Requirement already satisfied: fonttools>=4.22.0 in /Users/harshitajain/Library/Python/3.9/lib/python/site-packages (from matplotlib) (4.54.1)\n",
      "Requirement already satisfied: packaging>=20.0 in /Users/harshitajain/Library/Python/3.9/lib/python/site-packages (from matplotlib) (24.1)\n",
      "Requirement already satisfied: pillow>=8 in /Users/harshitajain/Library/Python/3.9/lib/python/site-packages (from matplotlib) (10.4.0)\n",
      "Requirement already satisfied: importlib-resources>=3.2.0 in /Users/harshitajain/Library/Python/3.9/lib/python/site-packages (from matplotlib) (6.4.5)\n",
      "Requirement already satisfied: python-dateutil>=2.7 in /Users/harshitajain/Library/Python/3.9/lib/python/site-packages (from matplotlib) (2.9.0.post0)\n",
      "Requirement already satisfied: cycler>=0.10 in /Users/harshitajain/Library/Python/3.9/lib/python/site-packages (from matplotlib) (0.12.1)\n",
      "Requirement already satisfied: numpy>=1.23 in /Users/harshitajain/Library/Python/3.9/lib/python/site-packages (from matplotlib) (2.0.2)\n",
      "Requirement already satisfied: contourpy>=1.0.1 in /Users/harshitajain/Library/Python/3.9/lib/python/site-packages (from matplotlib) (1.3.0)\n",
      "Requirement already satisfied: pyparsing>=2.3.1 in /Users/harshitajain/Library/Python/3.9/lib/python/site-packages (from matplotlib) (3.1.4)\n",
      "Requirement already satisfied: pandas>=1.2 in /Users/harshitajain/Library/Python/3.9/lib/python/site-packages (from seaborn) (2.2.3)\n",
      "Requirement already satisfied: zipp>=3.1.0 in /Users/harshitajain/Library/Python/3.9/lib/python/site-packages (from importlib-resources>=3.2.0->matplotlib) (3.20.2)\n",
      "Requirement already satisfied: pytz>=2020.1 in /Users/harshitajain/Library/Python/3.9/lib/python/site-packages (from pandas>=1.2->seaborn) (2024.2)\n",
      "Requirement already satisfied: tzdata>=2022.7 in /Users/harshitajain/Library/Python/3.9/lib/python/site-packages (from pandas>=1.2->seaborn) (2024.2)\n",
      "Requirement already satisfied: six>=1.5 in /Library/Developer/CommandLineTools/Library/Frameworks/Python3.framework/Versions/3.9/lib/python3.9/site-packages (from python-dateutil>=2.7->matplotlib) (1.15.0)\n",
      "\u001b[33mWARNING: You are using pip version 21.2.4; however, version 24.2 is available.\n",
      "You should consider upgrading via the '/Library/Developer/CommandLineTools/usr/bin/python3 -m pip install --upgrade pip' command.\u001b[0m\n",
      "Note: you may need to restart the kernel to use updated packages.\n"
     ]
    }
   ],
   "source": [
    "pip install matplotlib seaborn"
   ]
  },
  {
   "cell_type": "code",
   "execution_count": 4,
   "metadata": {},
   "outputs": [],
   "source": [
    "import matplotlib.pyplot as plt\n",
    "import seaborn as sns\n",
    "import numpy as np"
   ]
  },
  {
   "cell_type": "code",
   "execution_count": 11,
   "metadata": {},
   "outputs": [],
   "source": [
    "## reading the data\n",
    "file_path = 'wines.txt'\n",
    "wine = pd.read_csv(file_path, delimiter=',')"
   ]
  },
  {
   "cell_type": "code",
   "execution_count": 6,
   "metadata": {},
   "outputs": [
    {
     "name": "stdout",
     "output_type": "stream",
     "text": [
      "      fixed acidity  volatile acidity  citric acid  residual sugar  chlorides  \\\n",
      "0               7.2              0.32         0.47             5.1      0.044   \n",
      "1               9.7              0.24         0.45             1.2      0.033   \n",
      "2               7.2              0.27         0.74            12.5      0.037   \n",
      "3               4.8              0.34         0.00             6.5      0.028   \n",
      "4               5.0              0.17         0.56             1.5      0.026   \n",
      "...             ...               ...          ...             ...        ...   \n",
      "2495           10.1              0.43         0.40             2.6      0.092   \n",
      "2496           10.0              0.29         0.40             2.9      0.098   \n",
      "2497           10.6              0.31         0.49             2.2      0.063   \n",
      "2498            7.0              0.58         0.28             4.8      0.085   \n",
      "2499            7.5              0.61         0.20             1.7      0.076   \n",
      "\n",
      "      free sulfur dioxide  total sulfur dioxide  density    pH  sulphates  \\\n",
      "0                    19.0                  65.0  0.99100  3.03       0.41   \n",
      "1                    11.0                  59.0  0.99260  2.74       0.47   \n",
      "2                    47.0                 156.0  0.99810  3.04       0.44   \n",
      "3                    33.0                 163.0  0.99390  3.36       0.61   \n",
      "4                    24.0                 115.0  0.99060  3.48       0.39   \n",
      "...                   ...                   ...      ...   ...        ...   \n",
      "2495                 13.0                  52.0  0.99834  3.22       0.64   \n",
      "2496                 10.0                  26.0  1.00060  3.48       0.91   \n",
      "2497                 18.0                  40.0  0.99760  3.14       0.51   \n",
      "2498                 12.0                  69.0  0.99633  3.32       0.70   \n",
      "2499                 36.0                  60.0  0.99494  3.10       0.40   \n",
      "\n",
      "      alcohol   type  great wine  \n",
      "0        12.6  White       False  \n",
      "1        10.8  White       False  \n",
      "2         8.7  White       False  \n",
      "3         9.9  White       False  \n",
      "4        10.8  White        True  \n",
      "...       ...    ...         ...  \n",
      "2495     10.0    Red        True  \n",
      "2496      9.7    Red       False  \n",
      "2497      9.8    Red       False  \n",
      "2498     11.0    Red       False  \n",
      "2499      9.3    Red       False  \n",
      "\n",
      "[2500 rows x 13 columns]\n"
     ]
    }
   ],
   "source": [
    "print(wine)"
   ]
  },
  {
   "cell_type": "code",
   "execution_count": 7,
   "metadata": {},
   "outputs": [
    {
     "name": "stdout",
     "output_type": "stream",
     "text": [
      "<class 'pandas.core.frame.DataFrame'>\n",
      "RangeIndex: 2500 entries, 0 to 2499\n",
      "Data columns (total 13 columns):\n",
      " #   Column                Non-Null Count  Dtype  \n",
      "---  ------                --------------  -----  \n",
      " 0   fixed acidity         2500 non-null   float64\n",
      " 1   volatile acidity      2500 non-null   float64\n",
      " 2   citric acid           2500 non-null   float64\n",
      " 3   residual sugar        2500 non-null   float64\n",
      " 4   chlorides             2500 non-null   float64\n",
      " 5   free sulfur dioxide   2500 non-null   float64\n",
      " 6   total sulfur dioxide  2500 non-null   float64\n",
      " 7   density               2500 non-null   float64\n",
      " 8   pH                    2500 non-null   float64\n",
      " 9   sulphates             2500 non-null   float64\n",
      " 10  alcohol               2500 non-null   float64\n",
      " 11  type                  2500 non-null   object \n",
      " 12  great wine            2500 non-null   bool   \n",
      "dtypes: bool(1), float64(11), object(1)\n",
      "memory usage: 236.9+ KB\n",
      "None\n"
     ]
    }
   ],
   "source": [
    "# Check data info\n",
    "print(wine.info())\n",
    "## 13 variables"
   ]
  },
  {
   "cell_type": "markdown",
   "metadata": {},
   "source": [
    "# Q1 What is the proportion of great wines in the dataset?"
   ]
  },
  {
   "cell_type": "code",
   "execution_count": 8,
   "metadata": {},
   "outputs": [
    {
     "name": "stdout",
     "output_type": "stream",
     "text": [
      "Proportion of Great Wines:\n",
      "great wine\n",
      "False    0.8304\n",
      "True     0.1696\n",
      "Name: proportion, dtype: float64\n"
     ]
    }
   ],
   "source": [
    "# Proportion of great wines\n",
    "great_wine_proportion = wine['great wine'].value_counts(normalize=True)\n",
    "print(\"Proportion of Great Wines:\")\n",
    "print(great_wine_proportion)"
   ]
  },
  {
   "cell_type": "code",
   "execution_count": 9,
   "metadata": {},
   "outputs": [
    {
     "ename": "NameError",
     "evalue": "name 'ax' is not defined",
     "output_type": "error",
     "traceback": [
      "\u001b[0;31m---------------------------------------------------------------------------\u001b[0m",
      "\u001b[0;31mNameError\u001b[0m                                 Traceback (most recent call last)",
      "Cell \u001b[0;32mIn[9], line 3\u001b[0m\n\u001b[1;32m      1\u001b[0m \u001b[38;5;66;03m# Plot the proportion of great vs non-great wines\u001b[39;00m\n\u001b[1;32m      2\u001b[0m sns\u001b[38;5;241m.\u001b[39mcountplot(data\u001b[38;5;241m=\u001b[39mwine, x\u001b[38;5;241m=\u001b[39m\u001b[38;5;124m\"\u001b[39m\u001b[38;5;124mgreat wine\u001b[39m\u001b[38;5;124m\"\u001b[39m)\n\u001b[0;32m----> 3\u001b[0m \u001b[43max\u001b[49m\u001b[38;5;241m.\u001b[39mset(title\u001b[38;5;241m=\u001b[39m\u001b[38;5;124m\"\u001b[39m\u001b[38;5;124mProportion of Great Wines\u001b[39m\u001b[38;5;124m\"\u001b[39m)\n",
      "\u001b[0;31mNameError\u001b[0m: name 'ax' is not defined"
     ]
    },
    {
     "data": {
      "image/png": "[encoded data removed]",
      "text/plain": [
       "<Figure size 640x480 with 1 Axes>"
      ]
     },
     "metadata": {},
     "output_type": "display_data"
    }
   ],
   "source": [
    "# Plot the proportion of great vs non-great wines\n",
    "sns.countplot(data=wine, x=\"great wine\")\n",
    "ax.set(title=\"Proportion of Great Wines\")"
   ]
  },
  {
   "cell_type": "markdown",
   "metadata": {},
   "source": [
    "# Q2 How are the different variables (acidity, alcohol percentage, pH, etc.) distributed in the dataset?"
   ]
  },
  {
   "cell_type": "code",
   "execution_count": 21,
   "metadata": {},
   "outputs": [
    {
     "data": {
      "text/html": [
       "<div>\n",
       "<style scoped>\n",
       "    .dataframe tbody tr th:only-of-type {\n",
       "        vertical-align: middle;\n",
       "    }\n",
       "\n",
       "    .dataframe tbody tr th {\n",
       "        vertical-align: top;\n",
       "    }\n",
       "\n",
       "    .dataframe thead th {\n",
       "        text-align: right;\n",
       "    }\n",
       "</style>\n",
       "<table border=\"1\" class=\"dataframe\">\n",
       "  <thead>\n",
       "    <tr style=\"text-align: right;\">\n",
       "      <th></th>\n",
       "      <th>fixed acidity</th>\n",
       "      <th>volatile acidity</th>\n",
       "      <th>citric acid</th>\n",
       "      <th>residual sugar</th>\n",
       "      <th>chlorides</th>\n",
       "      <th>free sulfur dioxide</th>\n",
       "      <th>total sulfur dioxide</th>\n",
       "      <th>density</th>\n",
       "      <th>pH</th>\n",
       "      <th>sulphates</th>\n",
       "      <th>alcohol</th>\n",
       "    </tr>\n",
       "  </thead>\n",
       "  <tbody>\n",
       "    <tr>\n",
       "      <th>count</th>\n",
       "      <td>2500.000000</td>\n",
       "      <td>2500.000000</td>\n",
       "      <td>2500.000000</td>\n",
       "      <td>2500.00000</td>\n",
       "      <td>2500.000000</td>\n",
       "      <td>2500.000000</td>\n",
       "      <td>2500.000000</td>\n",
       "      <td>2500.000000</td>\n",
       "      <td>2500.000000</td>\n",
       "      <td>2500.000000</td>\n",
       "      <td>2500.000000</td>\n",
       "    </tr>\n",
       "    <tr>\n",
       "      <th>mean</th>\n",
       "      <td>7.574620</td>\n",
       "      <td>0.407888</td>\n",
       "      <td>0.302384</td>\n",
       "      <td>4.22000</td>\n",
       "      <td>0.066762</td>\n",
       "      <td>25.452200</td>\n",
       "      <td>92.711000</td>\n",
       "      <td>0.995263</td>\n",
       "      <td>3.255064</td>\n",
       "      <td>0.572580</td>\n",
       "      <td>10.501129</td>\n",
       "    </tr>\n",
       "    <tr>\n",
       "      <th>std</th>\n",
       "      <td>1.555536</td>\n",
       "      <td>0.193440</td>\n",
       "      <td>0.166705</td>\n",
       "      <td>3.83954</td>\n",
       "      <td>0.043076</td>\n",
       "      <td>17.717002</td>\n",
       "      <td>60.239227</td>\n",
       "      <td>0.002775</td>\n",
       "      <td>0.164223</td>\n",
       "      <td>0.167606</td>\n",
       "      <td>1.150068</td>\n",
       "    </tr>\n",
       "    <tr>\n",
       "      <th>min</th>\n",
       "      <td>4.200000</td>\n",
       "      <td>0.100000</td>\n",
       "      <td>0.000000</td>\n",
       "      <td>0.70000</td>\n",
       "      <td>0.009000</td>\n",
       "      <td>1.000000</td>\n",
       "      <td>6.000000</td>\n",
       "      <td>0.987400</td>\n",
       "      <td>2.740000</td>\n",
       "      <td>0.250000</td>\n",
       "      <td>8.000000</td>\n",
       "    </tr>\n",
       "    <tr>\n",
       "      <th>25%</th>\n",
       "      <td>6.575000</td>\n",
       "      <td>0.260000</td>\n",
       "      <td>0.210000</td>\n",
       "      <td>1.80000</td>\n",
       "      <td>0.042000</td>\n",
       "      <td>12.000000</td>\n",
       "      <td>37.000000</td>\n",
       "      <td>0.993287</td>\n",
       "      <td>3.140000</td>\n",
       "      <td>0.460000</td>\n",
       "      <td>9.500000</td>\n",
       "    </tr>\n",
       "    <tr>\n",
       "      <th>50%</th>\n",
       "      <td>7.200000</td>\n",
       "      <td>0.360000</td>\n",
       "      <td>0.300000</td>\n",
       "      <td>2.40000</td>\n",
       "      <td>0.059000</td>\n",
       "      <td>23.000000</td>\n",
       "      <td>90.000000</td>\n",
       "      <td>0.995625</td>\n",
       "      <td>3.250000</td>\n",
       "      <td>0.550000</td>\n",
       "      <td>10.300000</td>\n",
       "    </tr>\n",
       "    <tr>\n",
       "      <th>75%</th>\n",
       "      <td>8.200000</td>\n",
       "      <td>0.540000</td>\n",
       "      <td>0.400000</td>\n",
       "      <td>5.30000</td>\n",
       "      <td>0.080000</td>\n",
       "      <td>35.000000</td>\n",
       "      <td>136.000000</td>\n",
       "      <td>0.997243</td>\n",
       "      <td>3.360000</td>\n",
       "      <td>0.650000</td>\n",
       "      <td>11.300000</td>\n",
       "    </tr>\n",
       "    <tr>\n",
       "      <th>max</th>\n",
       "      <td>15.600000</td>\n",
       "      <td>1.580000</td>\n",
       "      <td>1.000000</td>\n",
       "      <td>23.50000</td>\n",
       "      <td>0.611000</td>\n",
       "      <td>289.000000</td>\n",
       "      <td>440.000000</td>\n",
       "      <td>1.003690</td>\n",
       "      <td>4.010000</td>\n",
       "      <td>2.000000</td>\n",
       "      <td>14.000000</td>\n",
       "    </tr>\n",
       "  </tbody>\n",
       "</table>\n",
       "</div>"
      ],
      "text/plain": [
       "       fixed acidity  volatile acidity  citric acid  residual sugar  \\\n",
       "count    2500.000000       2500.000000  2500.000000      2500.00000   \n",
       "mean        7.574620          0.407888     0.302384         4.22000   \n",
       "std         1.555536          0.193440     0.166705         3.83954   \n",
       "min         4.200000          0.100000     0.000000         0.70000   \n",
       "25%         6.575000          0.260000     0.210000         1.80000   \n",
       "50%         7.200000          0.360000     0.300000         2.40000   \n",
       "75%         8.200000          0.540000     0.400000         5.30000   \n",
       "max        15.600000          1.580000     1.000000        23.50000   \n",
       "\n",
       "         chlorides  free sulfur dioxide  total sulfur dioxide      density  \\\n",
       "count  2500.000000          2500.000000           2500.000000  2500.000000   \n",
       "mean      0.066762            25.452200             92.711000     0.995263   \n",
       "std       0.043076            17.717002             60.239227     0.002775   \n",
       "min       0.009000             1.000000              6.000000     0.987400   \n",
       "25%       0.042000            12.000000             37.000000     0.993287   \n",
       "50%       0.059000            23.000000             90.000000     0.995625   \n",
       "75%       0.080000            35.000000            136.000000     0.997243   \n",
       "max       0.611000           289.000000            440.000000     1.003690   \n",
       "\n",
       "                pH    sulphates      alcohol  \n",
       "count  2500.000000  2500.000000  2500.000000  \n",
       "mean      3.255064     0.572580    10.501129  \n",
       "std       0.164223     0.167606     1.150068  \n",
       "min       2.740000     0.250000     8.000000  \n",
       "25%       3.140000     0.460000     9.500000  \n",
       "50%       3.250000     0.550000    10.300000  \n",
       "75%       3.360000     0.650000    11.300000  \n",
       "max       4.010000     2.000000    14.000000  "
      ]
     },
     "execution_count": 21,
     "metadata": {},
     "output_type": "execute_result"
    }
   ],
   "source": [
    "wine.describe()"
   ]
  },
  {
   "cell_type": "markdown",
   "metadata": {},
   "source": []
  },
  {
   "cell_type": "code",
   "execution_count": null,
   "metadata": {},
   "outputs": [],
   "source": [
    "numerical_columns = ['fixed acidity', 'volatile acidity', 'citric acid', 'residual sugar',\n",
    "                     'chlorides', 'free sulfur dioxide', 'total sulfur dioxide', 'density',\n",
    "                     'pH', 'sulphates', 'alcohol']\n",
    "\n",
    "for column in numerical_columns:\n",
    "    plt.figure(figsize=(8, 4))\n",
    "    sns.histplot(wine[column], kde=True)\n",
    "    plt.title(f'Distribution of {column}')\n",
    "    plt.show()"
   ]
  },
  {
   "cell_type": "code",
   "execution_count": 16,
   "metadata": {},
   "outputs": [
    {
     "name": "stdout",
     "output_type": "stream",
     "text": [
      "type                        Red       White\n",
      "alcohol               10.424747   10.577512\n",
      "sulphates              0.657456    0.487704\n",
      "pH                     3.310656    3.199472\n",
      "free_sulfur_dioxide   15.821600   35.082800\n",
      "volatile_acidity       0.530932    0.284844\n",
      "residual_sugar         2.535840    5.904160\n",
      "fixed_acidity          8.300640    6.848600\n",
      "total_sulfur_dioxide  46.505200  138.916800\n",
      "citric_acid            0.271344    0.333424\n",
      "density                0.996726    0.993801\n",
      "chlorides              0.087600    0.045925\n"
     ]
    }
   ],
   "source": [
    "each_wine_agg = wine.groupby(\"type\").aggregate(\n",
    "       alcohol = (\"alcohol\", \"mean\"),\n",
    "       sulphates = (\"sulphates\", \"mean\"),\n",
    "       pH = (\"pH\", \"mean\"),\n",
    "       free_sulfur_dioxide = (\"free sulfur dioxide\", \"mean\"),\n",
    "       volatile_acidity = (\"volatile acidity\", \"mean\"),\n",
    "       residual_sugar = (\"residual sugar\", \"mean\"),\n",
    "       fixed_acidity = (\"fixed acidity\", \"mean\"),\n",
    "       total_sulfur_dioxide = (\"total sulfur dioxide\", \"mean\"),\n",
    "       citric_acid = (\"citric acid\", \"mean\"),\n",
    "       density = (\"density\", \"mean\"),\n",
    "       chlorides = (\"chlorides\", \"mean\")  \n",
    "    ).T\n",
    "\n",
    "print(each_wine_agg)"
   ]
  },
  {
   "cell_type": "markdown",
   "metadata": {},
   "source": [
    "ML"
   ]
  },
  {
   "cell_type": "code",
   "execution_count": 18,
   "metadata": {},
   "outputs": [],
   "source": [
    "each_wine_agg.to_csv('each_wine_agg.csv', header=True, index=True, encoding='utf-8')"
   ]
  }
 ],
 "metadata": {
  "kernelspec": {
   "display_name": "Python 3",
   "language": "python",
   "name": "python3"
  },
  "language_info": {
   "codemirror_mode": {
    "name": "ipython",
    "version": 3
   },
   "file_extension": ".py",
   "mimetype": "text/x-python",
   "name": "python",
   "nbconvert_exporter": "python",
   "pygments_lexer": "ipython3",
   "version": "3.9.6"
  }
 },
 "nbformat": 4,
 "nbformat_minor": 2
}
