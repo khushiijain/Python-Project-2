{
 "cells": [
  {
   "cell_type": "code",
   "execution_count": 1,
   "metadata": {},
   "outputs": [],
   "source": [
    "import pandas as pd\n",
    "file_path = 'wines.txt'\n",
    "wine = pd.read_csv(file_path, delimiter=',')"
   ]
  },
  {
   "cell_type": "code",
   "execution_count": 2,
   "metadata": {},
   "outputs": [
    {
     "name": "stdout",
     "output_type": "stream",
     "text": [
      "<class 'pandas.core.frame.DataFrame'>\n",
      "RangeIndex: 2500 entries, 0 to 2499\n",
      "Data columns (total 13 columns):\n",
      " #   Column                Non-Null Count  Dtype  \n",
      "---  ------                --------------  -----  \n",
      " 0   fixed acidity         2500 non-null   float64\n",
      " 1   volatile acidity      2500 non-null   float64\n",
      " 2   citric acid           2500 non-null   float64\n",
      " 3   residual sugar        2500 non-null   float64\n",
      " 4   chlorides             2500 non-null   float64\n",
      " 5   free sulfur dioxide   2500 non-null   float64\n",
      " 6   total sulfur dioxide  2500 non-null   float64\n",
      " 7   density               2500 non-null   float64\n",
      " 8   pH                    2500 non-null   float64\n",
      " 9   sulphates             2500 non-null   float64\n",
      " 10  alcohol               2500 non-null   float64\n",
      " 11  type                  2500 non-null   object \n",
      " 12  great wine            2500 non-null   bool   \n",
      "dtypes: bool(1), float64(11), object(1)\n",
      "memory usage: 236.9+ KB\n",
      "None\n"
     ]
    }
   ],
   "source": [
    "print(wine.info())"
   ]
  }
 ],
 "metadata": {
  "kernelspec": {
   "display_name": "Python 3",
   "language": "python",
   "name": "python3"
  },
  "language_info": {
   "codemirror_mode": {
    "name": "ipython",
    "version": 3
   },
   "file_extension": ".py",
   "mimetype": "text/x-python",
   "name": "python",
   "nbconvert_exporter": "python",
   "pygments_lexer": "ipython3",
   "version": "3.9.6"
  }
 },
 "nbformat": 4,
 "nbformat_minor": 2
}
